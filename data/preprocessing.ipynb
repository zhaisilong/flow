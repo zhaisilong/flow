{
 "cells": [
  {
   "cell_type": "code",
   "execution_count": 19,
   "metadata": {},
   "outputs": [],
   "source": [
    "import pandas as pd\n",
    "from copy import deepcopy\n",
    "from sklearn.cluster import KMeans\n",
    "from sklearn.model_selection import train_test_split"
   ]
  },
  {
   "cell_type": "code",
   "execution_count": 20,
   "metadata": {},
   "outputs": [
    {
     "data": {
      "text/html": [
       "<div>\n",
       "<style scoped>\n",
       "    .dataframe tbody tr th:only-of-type {\n",
       "        vertical-align: middle;\n",
       "    }\n",
       "\n",
       "    .dataframe tbody tr th {\n",
       "        vertical-align: top;\n",
       "    }\n",
       "\n",
       "    .dataframe thead th {\n",
       "        text-align: right;\n",
       "    }\n",
       "</style>\n",
       "<table border=\"1\" class=\"dataframe\">\n",
       "  <thead>\n",
       "    <tr style=\"text-align: right;\">\n",
       "      <th></th>\n",
       "      <th>m_B</th>\n",
       "      <th>t_RT1</th>\n",
       "      <th>T_drawH</th>\n",
       "      <th>m_C</th>\n",
       "      <th>t_RT2</th>\n",
       "      <th>T_methyl</th>\n",
       "      <th>yield_trans</th>\n",
       "      <th>yield</th>\n",
       "      <th>impurity</th>\n",
       "    </tr>\n",
       "  </thead>\n",
       "  <tbody>\n",
       "    <tr>\n",
       "      <th>1</th>\n",
       "      <td>2.66</td>\n",
       "      <td>8.45</td>\n",
       "      <td>-39.0</td>\n",
       "      <td>3.15</td>\n",
       "      <td>121.2</td>\n",
       "      <td>-30</td>\n",
       "      <td>64.08</td>\n",
       "      <td>54.65</td>\n",
       "      <td>9.43</td>\n",
       "    </tr>\n",
       "    <tr>\n",
       "      <th>2</th>\n",
       "      <td>2.65</td>\n",
       "      <td>4.23</td>\n",
       "      <td>-39.0</td>\n",
       "      <td>3.15</td>\n",
       "      <td>121.2</td>\n",
       "      <td>-30</td>\n",
       "      <td>87.51</td>\n",
       "      <td>74.50</td>\n",
       "      <td>13.01</td>\n",
       "    </tr>\n",
       "    <tr>\n",
       "      <th>3</th>\n",
       "      <td>2.66</td>\n",
       "      <td>2.07</td>\n",
       "      <td>-39.0</td>\n",
       "      <td>3.15</td>\n",
       "      <td>121.2</td>\n",
       "      <td>-30</td>\n",
       "      <td>88.03</td>\n",
       "      <td>72.93</td>\n",
       "      <td>15.10</td>\n",
       "    </tr>\n",
       "    <tr>\n",
       "      <th>4</th>\n",
       "      <td>2.13</td>\n",
       "      <td>4.81</td>\n",
       "      <td>-39.0</td>\n",
       "      <td>3.15</td>\n",
       "      <td>121.2</td>\n",
       "      <td>-30</td>\n",
       "      <td>63.26</td>\n",
       "      <td>48.80</td>\n",
       "      <td>14.46</td>\n",
       "    </tr>\n",
       "    <tr>\n",
       "      <th>5</th>\n",
       "      <td>3.13</td>\n",
       "      <td>3.70</td>\n",
       "      <td>-39.0</td>\n",
       "      <td>3.15</td>\n",
       "      <td>121.2</td>\n",
       "      <td>-30</td>\n",
       "      <td>91.06</td>\n",
       "      <td>71.73</td>\n",
       "      <td>19.33</td>\n",
       "    </tr>\n",
       "  </tbody>\n",
       "</table>\n",
       "</div>"
      ],
      "text/plain": [
       "    m_B  t_RT1  T_drawH   m_C  t_RT2  T_methyl  yield_trans  yield  impurity\n",
       "1  2.66   8.45    -39.0  3.15  121.2       -30        64.08  54.65      9.43\n",
       "2  2.65   4.23    -39.0  3.15  121.2       -30        87.51  74.50     13.01\n",
       "3  2.66   2.07    -39.0  3.15  121.2       -30        88.03  72.93     15.10\n",
       "4  2.13   4.81    -39.0  3.15  121.2       -30        63.26  48.80     14.46\n",
       "5  3.13   3.70    -39.0  3.15  121.2       -30        91.06  71.73     19.33"
      ]
     },
     "execution_count": 20,
     "metadata": {},
     "output_type": "execute_result"
    }
   ],
   "source": [
    "df = pd.read_csv(\"flow.csv\", index_col=0)\n",
    "df.head()"
   ]
  },
  {
   "cell_type": "code",
   "execution_count": 21,
   "metadata": {},
   "outputs": [],
   "source": [
    "df_single = df.drop([\"yield_trans\", \"impurity\"], axis=1)\n",
    "df_single.rename({\"yield\": \"target\"}, inplace=True, axis=1)\n",
    "\n",
    "df_moo = deepcopy(df)\n",
    "df_moo[\"selectivity\"] = df[\"impurity\"].apply(lambda x: 100 - x)\n",
    "df_moo.drop([\"yield_trans\", \"impurity\"], axis=1, inplace=True)"
   ]
  },
  {
   "cell_type": "code",
   "execution_count": 22,
   "metadata": {},
   "outputs": [],
   "source": [
    "def split_df(df, data_path):\n",
    "    _df = deepcopy(df)\n",
    "    _df.reset_index(drop=True, inplace=True)\n",
    "    test_idx = [3, 6, 12, 26]\n",
    "    test_set = _df.iloc[test_idx]\n",
    "    train_set = _df.drop(test_idx)\n",
    "    train_set.to_csv(f\"{data_path}/train.csv\", index=None)\n",
    "    test_set.to_csv(f\"{data_path}/test.csv\", index=None)"
   ]
  },
  {
   "cell_type": "code",
   "execution_count": 24,
   "metadata": {},
   "outputs": [],
   "source": [
    "split_df(df_single, \"yield\")\n",
    "split_df(df_moo, \"moo\")"
   ]
  },
  {
   "cell_type": "code",
   "execution_count": null,
   "metadata": {},
   "outputs": [],
   "source": []
  }
 ],
 "metadata": {
  "kernelspec": {
   "display_name": "flow",
   "language": "python",
   "name": "python3"
  },
  "language_info": {
   "codemirror_mode": {
    "name": "ipython",
    "version": 3
   },
   "file_extension": ".py",
   "mimetype": "text/x-python",
   "name": "python",
   "nbconvert_exporter": "python",
   "pygments_lexer": "ipython3",
   "version": "3.7.12"
  },
  "orig_nbformat": 4
 },
 "nbformat": 4,
 "nbformat_minor": 2
}
